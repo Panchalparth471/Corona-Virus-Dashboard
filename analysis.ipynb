{
 "cells": [
  {
   "cell_type": "code",
   "execution_count": 62,
   "metadata": {},
   "outputs": [],
   "source": [
    "import numpy as np\n",
    "import pandas as pd\n",
    "import seaborn as sns\n",
    "import plotly.express as px\n"
   ]
  },
  {
   "cell_type": "code",
   "execution_count": 43,
   "metadata": {},
   "outputs": [
    {
     "data": {
      "text/html": [
       "<div>\n",
       "<style scoped>\n",
       "    .dataframe tbody tr th:only-of-type {\n",
       "        vertical-align: middle;\n",
       "    }\n",
       "\n",
       "    .dataframe tbody tr th {\n",
       "        vertical-align: top;\n",
       "    }\n",
       "\n",
       "    .dataframe thead th {\n",
       "        text-align: right;\n",
       "    }\n",
       "</style>\n",
       "<table border=\"1\" class=\"dataframe\">\n",
       "  <thead>\n",
       "    <tr style=\"text-align: right;\">\n",
       "      <th></th>\n",
       "      <th>id</th>\n",
       "      <th>government_id</th>\n",
       "      <th>diagnosed_date</th>\n",
       "      <th>age</th>\n",
       "      <th>gender</th>\n",
       "      <th>detected_city</th>\n",
       "      <th>detected_district</th>\n",
       "      <th>detected_state</th>\n",
       "      <th>nationality</th>\n",
       "      <th>current_status</th>\n",
       "      <th>status_change_date</th>\n",
       "      <th>notes</th>\n",
       "    </tr>\n",
       "  </thead>\n",
       "  <tbody>\n",
       "    <tr>\n",
       "      <th>0</th>\n",
       "      <td>0</td>\n",
       "      <td>KL-TS-P1</td>\n",
       "      <td>30/01/2020</td>\n",
       "      <td>20</td>\n",
       "      <td>F</td>\n",
       "      <td>Thrissur</td>\n",
       "      <td>Thrissur</td>\n",
       "      <td>Kerala</td>\n",
       "      <td>India</td>\n",
       "      <td>Recovered</td>\n",
       "      <td>14/02/2020</td>\n",
       "      <td>Travelled from Wuhan</td>\n",
       "    </tr>\n",
       "    <tr>\n",
       "      <th>1</th>\n",
       "      <td>1</td>\n",
       "      <td>KL-AL-P1</td>\n",
       "      <td>02/02/2020</td>\n",
       "      <td>NaN</td>\n",
       "      <td>NaN</td>\n",
       "      <td>Alappuzha</td>\n",
       "      <td>Alappuzha</td>\n",
       "      <td>Kerala</td>\n",
       "      <td>India</td>\n",
       "      <td>Recovered</td>\n",
       "      <td>14/02/2020</td>\n",
       "      <td>Travelled from Wuhan</td>\n",
       "    </tr>\n",
       "    <tr>\n",
       "      <th>2</th>\n",
       "      <td>2</td>\n",
       "      <td>KL-KS-P1</td>\n",
       "      <td>03/02/2020</td>\n",
       "      <td>NaN</td>\n",
       "      <td>NaN</td>\n",
       "      <td>Kasaragod</td>\n",
       "      <td>Kasaragod</td>\n",
       "      <td>Kerala</td>\n",
       "      <td>India</td>\n",
       "      <td>Recovered</td>\n",
       "      <td>14/02/2020</td>\n",
       "      <td>Travelled from Wuhan</td>\n",
       "    </tr>\n",
       "    <tr>\n",
       "      <th>3</th>\n",
       "      <td>3</td>\n",
       "      <td>DL-P1</td>\n",
       "      <td>02/03/2020</td>\n",
       "      <td>45</td>\n",
       "      <td>M</td>\n",
       "      <td>East Delhi (Mayur Vihar)</td>\n",
       "      <td>East Delhi</td>\n",
       "      <td>Delhi</td>\n",
       "      <td>India</td>\n",
       "      <td>Recovered</td>\n",
       "      <td>15/03/2020</td>\n",
       "      <td>Travelled from Austria, Italy</td>\n",
       "    </tr>\n",
       "    <tr>\n",
       "      <th>4</th>\n",
       "      <td>4</td>\n",
       "      <td>TS-P1</td>\n",
       "      <td>02/03/2020</td>\n",
       "      <td>24</td>\n",
       "      <td>M</td>\n",
       "      <td>Hyderabad</td>\n",
       "      <td>Hyderabad</td>\n",
       "      <td>Telangana</td>\n",
       "      <td>India</td>\n",
       "      <td>Recovered</td>\n",
       "      <td>02/03/2020</td>\n",
       "      <td>Travelled from Dubai to Bangalore on 20th Feb,...</td>\n",
       "    </tr>\n",
       "  </tbody>\n",
       "</table>\n",
       "</div>"
      ],
      "text/plain": [
       "   id government_id diagnosed_date  age gender             detected_city  \\\n",
       "0   0      KL-TS-P1     30/01/2020   20      F                  Thrissur   \n",
       "1   1      KL-AL-P1     02/02/2020  NaN    NaN                 Alappuzha   \n",
       "2   2      KL-KS-P1     03/02/2020  NaN    NaN                 Kasaragod   \n",
       "3   3         DL-P1     02/03/2020   45      M  East Delhi (Mayur Vihar)   \n",
       "4   4         TS-P1     02/03/2020   24      M                 Hyderabad   \n",
       "\n",
       "  detected_district detected_state nationality current_status  \\\n",
       "0          Thrissur         Kerala       India      Recovered   \n",
       "1         Alappuzha         Kerala       India      Recovered   \n",
       "2         Kasaragod         Kerala       India      Recovered   \n",
       "3        East Delhi          Delhi       India      Recovered   \n",
       "4         Hyderabad      Telangana       India      Recovered   \n",
       "\n",
       "  status_change_date                                              notes  \n",
       "0         14/02/2020                               Travelled from Wuhan  \n",
       "1         14/02/2020                               Travelled from Wuhan  \n",
       "2         14/02/2020                               Travelled from Wuhan  \n",
       "3         15/03/2020                      Travelled from Austria, Italy  \n",
       "4         02/03/2020  Travelled from Dubai to Bangalore on 20th Feb,...  "
      ]
     },
     "execution_count": 43,
     "metadata": {},
     "output_type": "execute_result"
    }
   ],
   "source": [
    "patients=pd.read_csv('IndividualDetails.csv')\n",
    "patients['current_status'].value_counts()\n",
    "patients.head()"
   ]
  },
  {
   "cell_type": "markdown",
   "metadata": {},
   "source": []
  },
  {
   "cell_type": "code",
   "execution_count": 4,
   "metadata": {},
   "outputs": [
    {
     "data": {
      "text/plain": [
       "8472"
      ]
     },
     "execution_count": 4,
     "metadata": {},
     "output_type": "execute_result"
    }
   ],
   "source": [
    "total=patients.shape[0]\n",
    "total"
   ]
  },
  {
   "cell_type": "code",
   "execution_count": 5,
   "metadata": {},
   "outputs": [],
   "source": [
    "total_data=patients['current_status'].value_counts()\n",
    "hospitalized=total_data['Hospitalized']\n",
    "deaths=total_data['Deceased']\n",
    "recovered=total_data['Recovered']"
   ]
  },
  {
   "cell_type": "code",
   "execution_count": 10,
   "metadata": {},
   "outputs": [
    {
     "data": {
      "text/html": [
       "<div>\n",
       "<style scoped>\n",
       "    .dataframe tbody tr th:only-of-type {\n",
       "        vertical-align: middle;\n",
       "    }\n",
       "\n",
       "    .dataframe tbody tr th {\n",
       "        vertical-align: top;\n",
       "    }\n",
       "\n",
       "    .dataframe thead th {\n",
       "        text-align: right;\n",
       "    }\n",
       "</style>\n",
       "<table border=\"1\" class=\"dataframe\">\n",
       "  <thead>\n",
       "    <tr style=\"text-align: right;\">\n",
       "      <th></th>\n",
       "      <th>id</th>\n",
       "      <th>government_id</th>\n",
       "      <th>diagnosed_date</th>\n",
       "      <th>age</th>\n",
       "      <th>gender</th>\n",
       "      <th>detected_city</th>\n",
       "      <th>detected_district</th>\n",
       "      <th>detected_state</th>\n",
       "      <th>nationality</th>\n",
       "      <th>current_status</th>\n",
       "      <th>status_change_date</th>\n",
       "      <th>notes</th>\n",
       "      <th>0</th>\n",
       "    </tr>\n",
       "  </thead>\n",
       "  <tbody>\n",
       "    <tr>\n",
       "      <th>0</th>\n",
       "      <td>0</td>\n",
       "      <td>KL-TS-P1</td>\n",
       "      <td>30/01/2020</td>\n",
       "      <td>20</td>\n",
       "      <td>F</td>\n",
       "      <td>Thrissur</td>\n",
       "      <td>Thrissur</td>\n",
       "      <td>Kerala</td>\n",
       "      <td>India</td>\n",
       "      <td>Recovered</td>\n",
       "      <td>14/02/2020</td>\n",
       "      <td>Travelled from Wuhan</td>\n",
       "      <td>1</td>\n",
       "    </tr>\n",
       "    <tr>\n",
       "      <th>1</th>\n",
       "      <td>3</td>\n",
       "      <td>DL-P1</td>\n",
       "      <td>02/03/2020</td>\n",
       "      <td>45</td>\n",
       "      <td>M</td>\n",
       "      <td>East Delhi (Mayur Vihar)</td>\n",
       "      <td>East Delhi</td>\n",
       "      <td>Delhi</td>\n",
       "      <td>India</td>\n",
       "      <td>Recovered</td>\n",
       "      <td>15/03/2020</td>\n",
       "      <td>Travelled from Austria, Italy</td>\n",
       "      <td>1</td>\n",
       "    </tr>\n",
       "    <tr>\n",
       "      <th>2</th>\n",
       "      <td>195</td>\n",
       "      <td>AP-P3</td>\n",
       "      <td>19/03/2020</td>\n",
       "      <td>65</td>\n",
       "      <td>M</td>\n",
       "      <td>Visakapatnam</td>\n",
       "      <td>Visakhapatnam</td>\n",
       "      <td>Andhra Pradesh</td>\n",
       "      <td>India</td>\n",
       "      <td>Recovered</td>\n",
       "      <td>29/03/2020</td>\n",
       "      <td>Travelled from Saudi Arabia on 12 Mar</td>\n",
       "      <td>1</td>\n",
       "    </tr>\n",
       "    <tr>\n",
       "      <th>3</th>\n",
       "      <td>324</td>\n",
       "      <td>KA-P20</td>\n",
       "      <td>21/03/2020</td>\n",
       "      <td>35</td>\n",
       "      <td>M</td>\n",
       "      <td>Mysuru</td>\n",
       "      <td>Mysuru</td>\n",
       "      <td>Karnataka</td>\n",
       "      <td>India</td>\n",
       "      <td>Recovered</td>\n",
       "      <td>07/04/2020</td>\n",
       "      <td>Travelled from Dubai via Bengaluru</td>\n",
       "      <td>1</td>\n",
       "    </tr>\n",
       "    <tr>\n",
       "      <th>4</th>\n",
       "      <td>335</td>\n",
       "      <td>KA-P21</td>\n",
       "      <td>22/03/2020</td>\n",
       "      <td>33</td>\n",
       "      <td>M</td>\n",
       "      <td>Hosayellapur</td>\n",
       "      <td>Dharwad</td>\n",
       "      <td>Karnataka</td>\n",
       "      <td>India</td>\n",
       "      <td>Recovered</td>\n",
       "      <td>06/04/2020</td>\n",
       "      <td>Travelled from Dubai via Goa</td>\n",
       "      <td>1</td>\n",
       "    </tr>\n",
       "    <tr>\n",
       "      <th>5</th>\n",
       "      <td>372</td>\n",
       "      <td>KA-P26</td>\n",
       "      <td>22/03/2020</td>\n",
       "      <td>22</td>\n",
       "      <td>M</td>\n",
       "      <td>Bhatkal</td>\n",
       "      <td>Uttara Kannada</td>\n",
       "      <td>Karnataka</td>\n",
       "      <td>India</td>\n",
       "      <td>Recovered</td>\n",
       "      <td>06/04/2020</td>\n",
       "      <td>Travelled from Dubai on Spicejet SG60 (21C)</td>\n",
       "      <td>1</td>\n",
       "    </tr>\n",
       "    <tr>\n",
       "      <th>6</th>\n",
       "      <td>381</td>\n",
       "      <td>KA-P22</td>\n",
       "      <td>22/03/2020</td>\n",
       "      <td>64</td>\n",
       "      <td>F</td>\n",
       "      <td>Gowribidanur</td>\n",
       "      <td>Bengaluru</td>\n",
       "      <td>Karnataka</td>\n",
       "      <td>India</td>\n",
       "      <td>Recovered</td>\n",
       "      <td>22/03/2020</td>\n",
       "      <td>Travelled from Mecca, Saudi Arabia along with ...</td>\n",
       "      <td>1</td>\n",
       "    </tr>\n",
       "    <tr>\n",
       "      <th>7</th>\n",
       "      <td>382</td>\n",
       "      <td>KA-P23</td>\n",
       "      <td>22/03/2020</td>\n",
       "      <td>36</td>\n",
       "      <td>F</td>\n",
       "      <td>Bengaluru</td>\n",
       "      <td>Bengaluru</td>\n",
       "      <td>Karnataka</td>\n",
       "      <td>India</td>\n",
       "      <td>Recovered</td>\n",
       "      <td>22/03/2020</td>\n",
       "      <td>Travelled from Switzerland and France</td>\n",
       "      <td>1</td>\n",
       "    </tr>\n",
       "    <tr>\n",
       "      <th>8</th>\n",
       "      <td>383</td>\n",
       "      <td>KA-P24</td>\n",
       "      <td>22/03/2020</td>\n",
       "      <td>27</td>\n",
       "      <td>M</td>\n",
       "      <td>Bengaluru</td>\n",
       "      <td>Bengaluru</td>\n",
       "      <td>Karnataka</td>\n",
       "      <td>India</td>\n",
       "      <td>Recovered</td>\n",
       "      <td>06/04/2020</td>\n",
       "      <td>Travelled from Germany</td>\n",
       "      <td>1</td>\n",
       "    </tr>\n",
       "    <tr>\n",
       "      <th>9</th>\n",
       "      <td>384</td>\n",
       "      <td>KA-P25</td>\n",
       "      <td>22/03/2020</td>\n",
       "      <td>51</td>\n",
       "      <td>M</td>\n",
       "      <td>Bengaluru</td>\n",
       "      <td>Bengaluru</td>\n",
       "      <td>Karnataka</td>\n",
       "      <td>India</td>\n",
       "      <td>Recovered</td>\n",
       "      <td>22/03/2020</td>\n",
       "      <td>Travelled from London</td>\n",
       "      <td>1</td>\n",
       "    </tr>\n",
       "    <tr>\n",
       "      <th>10</th>\n",
       "      <td>470</td>\n",
       "      <td>KA-P28</td>\n",
       "      <td>23/03/2020</td>\n",
       "      <td>38</td>\n",
       "      <td>M</td>\n",
       "      <td>Bengaluru</td>\n",
       "      <td>Bengaluru</td>\n",
       "      <td>Karnataka</td>\n",
       "      <td>India</td>\n",
       "      <td>Recovered</td>\n",
       "      <td>07/04/2020</td>\n",
       "      <td>Travelled from Dubai</td>\n",
       "      <td>1</td>\n",
       "    </tr>\n",
       "    <tr>\n",
       "      <th>11</th>\n",
       "      <td>471</td>\n",
       "      <td>KA-P29</td>\n",
       "      <td>23/03/2020</td>\n",
       "      <td>41</td>\n",
       "      <td>M</td>\n",
       "      <td>Bengaluru</td>\n",
       "      <td>Bengaluru</td>\n",
       "      <td>Karnataka</td>\n",
       "      <td>India</td>\n",
       "      <td>Recovered</td>\n",
       "      <td>06/04/2020</td>\n",
       "      <td>Travelled from London</td>\n",
       "      <td>1</td>\n",
       "    </tr>\n",
       "    <tr>\n",
       "      <th>12</th>\n",
       "      <td>473</td>\n",
       "      <td>KA-P31</td>\n",
       "      <td>23/03/2020</td>\n",
       "      <td>24</td>\n",
       "      <td>M</td>\n",
       "      <td>Bengaluru</td>\n",
       "      <td>Bengaluru</td>\n",
       "      <td>Karnataka</td>\n",
       "      <td>India</td>\n",
       "      <td>Recovered</td>\n",
       "      <td>06/04/2020</td>\n",
       "      <td>Travelled from UK and Dubai</td>\n",
       "      <td>1</td>\n",
       "    </tr>\n",
       "    <tr>\n",
       "      <th>13</th>\n",
       "      <td>511</td>\n",
       "      <td>KA-P34</td>\n",
       "      <td>24/03/2020</td>\n",
       "      <td>32</td>\n",
       "      <td>M</td>\n",
       "      <td>Mangaluru</td>\n",
       "      <td>Dakshina Kannada</td>\n",
       "      <td>Karnataka</td>\n",
       "      <td>India</td>\n",
       "      <td>Recovered</td>\n",
       "      <td>07/04/2020</td>\n",
       "      <td>Kasaragod Resident; Travelled from Dubai, land...</td>\n",
       "      <td>1</td>\n",
       "    </tr>\n",
       "    <tr>\n",
       "      <th>14</th>\n",
       "      <td>513</td>\n",
       "      <td>KA-P36</td>\n",
       "      <td>24/03/2020</td>\n",
       "      <td>65</td>\n",
       "      <td>M</td>\n",
       "      <td>Bhatkal</td>\n",
       "      <td>Uttara Kannada</td>\n",
       "      <td>Karnataka</td>\n",
       "      <td>India</td>\n",
       "      <td>Recovered</td>\n",
       "      <td>11/04/2020</td>\n",
       "      <td>Travelled from Dubai, Landed in Mumbai (18th M...</td>\n",
       "      <td>1</td>\n",
       "    </tr>\n",
       "    <tr>\n",
       "      <th>15</th>\n",
       "      <td>514</td>\n",
       "      <td>KA-P37</td>\n",
       "      <td>24/03/2020</td>\n",
       "      <td>56</td>\n",
       "      <td>F</td>\n",
       "      <td>Chikkaballapura</td>\n",
       "      <td>Chikkaballapura</td>\n",
       "      <td>Karnataka</td>\n",
       "      <td>India</td>\n",
       "      <td>Recovered</td>\n",
       "      <td>24/03/2020</td>\n",
       "      <td>Travelled from Mecca, Saudi Arabia along with ...</td>\n",
       "      <td>1</td>\n",
       "    </tr>\n",
       "    <tr>\n",
       "      <th>16</th>\n",
       "      <td>528</td>\n",
       "      <td>KA-P39</td>\n",
       "      <td>24/03/2020</td>\n",
       "      <td>47</td>\n",
       "      <td>M</td>\n",
       "      <td>Mangaluru</td>\n",
       "      <td>Dakshina Kannada</td>\n",
       "      <td>Karnataka</td>\n",
       "      <td>India</td>\n",
       "      <td>Recovered</td>\n",
       "      <td>07/04/2020</td>\n",
       "      <td>Resident of Kasargod, Kerala. With a Travel Hi...</td>\n",
       "      <td>1</td>\n",
       "    </tr>\n",
       "    <tr>\n",
       "      <th>17</th>\n",
       "      <td>558</td>\n",
       "      <td>KA-P41</td>\n",
       "      <td>24/03/2020</td>\n",
       "      <td>23</td>\n",
       "      <td>M</td>\n",
       "      <td>Mangaluru</td>\n",
       "      <td>Dakshina Kannada</td>\n",
       "      <td>Karnataka</td>\n",
       "      <td>India</td>\n",
       "      <td>Recovered</td>\n",
       "      <td>07/04/2020</td>\n",
       "      <td>Resident of Kasargod, Kerala. With a Travel Hi...</td>\n",
       "      <td>1</td>\n",
       "    </tr>\n",
       "    <tr>\n",
       "      <th>18</th>\n",
       "      <td>633</td>\n",
       "      <td>KA-P47</td>\n",
       "      <td>25/03/2020</td>\n",
       "      <td>63</td>\n",
       "      <td>F</td>\n",
       "      <td>Bengaluru</td>\n",
       "      <td>Bengaluru</td>\n",
       "      <td>Karnataka</td>\n",
       "      <td>India</td>\n",
       "      <td>Recovered</td>\n",
       "      <td>25/03/2020</td>\n",
       "      <td>Travel History to Athens and London and arrive...</td>\n",
       "      <td>1</td>\n",
       "    </tr>\n",
       "    <tr>\n",
       "      <th>19</th>\n",
       "      <td>634</td>\n",
       "      <td>KA-P48</td>\n",
       "      <td>25/03/2020</td>\n",
       "      <td>69</td>\n",
       "      <td>M</td>\n",
       "      <td>Bengaluru</td>\n",
       "      <td>Bengaluru</td>\n",
       "      <td>Karnataka</td>\n",
       "      <td>India</td>\n",
       "      <td>Recovered</td>\n",
       "      <td>25/03/2020</td>\n",
       "      <td>Travel History to Athens and London and arrive...</td>\n",
       "      <td>1</td>\n",
       "    </tr>\n",
       "    <tr>\n",
       "      <th>20</th>\n",
       "      <td>860</td>\n",
       "      <td>KA-P63</td>\n",
       "      <td>27/03/2020</td>\n",
       "      <td>18</td>\n",
       "      <td>M</td>\n",
       "      <td>Davangere</td>\n",
       "      <td>Davanagere</td>\n",
       "      <td>Karnataka</td>\n",
       "      <td>India</td>\n",
       "      <td>Recovered</td>\n",
       "      <td>27/03/2020</td>\n",
       "      <td>Travel history to Paris, France</td>\n",
       "      <td>1</td>\n",
       "    </tr>\n",
       "    <tr>\n",
       "      <th>21</th>\n",
       "      <td>911</td>\n",
       "      <td>KA-P68</td>\n",
       "      <td>28/03/2020</td>\n",
       "      <td>25</td>\n",
       "      <td>M</td>\n",
       "      <td>Bengaluru</td>\n",
       "      <td>Bengaluru</td>\n",
       "      <td>Karnataka</td>\n",
       "      <td>India</td>\n",
       "      <td>Recovered</td>\n",
       "      <td>28/03/2020</td>\n",
       "      <td>Travel history to London, son of KA-P25 arrive...</td>\n",
       "      <td>1</td>\n",
       "    </tr>\n",
       "    <tr>\n",
       "      <th>22</th>\n",
       "      <td>913</td>\n",
       "      <td>KA-P70</td>\n",
       "      <td>28/03/2020</td>\n",
       "      <td>70</td>\n",
       "      <td>M</td>\n",
       "      <td>Gauribidanur</td>\n",
       "      <td>Chikkaballapura</td>\n",
       "      <td>Karnataka</td>\n",
       "      <td>India</td>\n",
       "      <td>Recovered</td>\n",
       "      <td>11/04/2020</td>\n",
       "      <td>Contact of KA-P19</td>\n",
       "      <td>1</td>\n",
       "    </tr>\n",
       "    <tr>\n",
       "      <th>23</th>\n",
       "      <td>180</td>\n",
       "      <td>TN-P3</td>\n",
       "      <td>19/03/2020</td>\n",
       "      <td>21</td>\n",
       "      <td>M</td>\n",
       "      <td>Chennai</td>\n",
       "      <td>Chennai</td>\n",
       "      <td>Tamil Nadu</td>\n",
       "      <td>India</td>\n",
       "      <td>Recovered</td>\n",
       "      <td>28/03/2020</td>\n",
       "      <td>Travelled from Dublin, Ireland on 17/3</td>\n",
       "      <td>1</td>\n",
       "    </tr>\n",
       "    <tr>\n",
       "      <th>24</th>\n",
       "      <td>174</td>\n",
       "      <td>KA-P15</td>\n",
       "      <td>19/03/2020</td>\n",
       "      <td>35</td>\n",
       "      <td>M</td>\n",
       "      <td>Kodagu</td>\n",
       "      <td>Kodagu</td>\n",
       "      <td>Karnataka</td>\n",
       "      <td>India</td>\n",
       "      <td>Recovered</td>\n",
       "      <td>19/03/2020</td>\n",
       "      <td>Travelled from Saudi Arabia</td>\n",
       "      <td>1</td>\n",
       "    </tr>\n",
       "    <tr>\n",
       "      <th>25</th>\n",
       "      <td>155</td>\n",
       "      <td>KA-P14</td>\n",
       "      <td>18/03/2020</td>\n",
       "      <td>35</td>\n",
       "      <td>M</td>\n",
       "      <td>Bengaluru</td>\n",
       "      <td>Bengaluru</td>\n",
       "      <td>Karnataka</td>\n",
       "      <td>India</td>\n",
       "      <td>Recovered</td>\n",
       "      <td>05/04/2020</td>\n",
       "      <td>Travelled from the US</td>\n",
       "      <td>1</td>\n",
       "    </tr>\n",
       "    <tr>\n",
       "      <th>26</th>\n",
       "      <td>52</td>\n",
       "      <td>KA-P4</td>\n",
       "      <td>10/03/2020</td>\n",
       "      <td>13</td>\n",
       "      <td>F</td>\n",
       "      <td>Bengaluru</td>\n",
       "      <td>Bengaluru</td>\n",
       "      <td>Karnataka</td>\n",
       "      <td>India</td>\n",
       "      <td>Recovered</td>\n",
       "      <td>24/03/2020</td>\n",
       "      <td>Daughter of P51 and P52</td>\n",
       "      <td>1</td>\n",
       "    </tr>\n",
       "    <tr>\n",
       "      <th>27</th>\n",
       "      <td>4</td>\n",
       "      <td>TS-P1</td>\n",
       "      <td>02/03/2020</td>\n",
       "      <td>24</td>\n",
       "      <td>M</td>\n",
       "      <td>Hyderabad</td>\n",
       "      <td>Hyderabad</td>\n",
       "      <td>Telangana</td>\n",
       "      <td>India</td>\n",
       "      <td>Recovered</td>\n",
       "      <td>02/03/2020</td>\n",
       "      <td>Travelled from Dubai to Bangalore on 20th Feb,...</td>\n",
       "      <td>1</td>\n",
       "    </tr>\n",
       "    <tr>\n",
       "      <th>28</th>\n",
       "      <td>33</td>\n",
       "      <td>TN-P1</td>\n",
       "      <td>07/03/2020</td>\n",
       "      <td>45</td>\n",
       "      <td>M</td>\n",
       "      <td>Kancheepuram</td>\n",
       "      <td>Kancheepuram</td>\n",
       "      <td>Tamil Nadu</td>\n",
       "      <td>India</td>\n",
       "      <td>Recovered</td>\n",
       "      <td>07/03/2020</td>\n",
       "      <td>Travelled from Oman to Chennai Airport on 28.0...</td>\n",
       "      <td>1</td>\n",
       "    </tr>\n",
       "    <tr>\n",
       "      <th>29</th>\n",
       "      <td>34</td>\n",
       "      <td>KL-PT-P1</td>\n",
       "      <td>08/03/2020</td>\n",
       "      <td>24</td>\n",
       "      <td>M</td>\n",
       "      <td>Ranni</td>\n",
       "      <td>Pathanamthitta</td>\n",
       "      <td>Kerala</td>\n",
       "      <td>India</td>\n",
       "      <td>Recovered</td>\n",
       "      <td>27/03/2020</td>\n",
       "      <td>Travelled from Italy on 29/02/2020 through Doha</td>\n",
       "      <td>1</td>\n",
       "    </tr>\n",
       "    <tr>\n",
       "      <th>30</th>\n",
       "      <td>35</td>\n",
       "      <td>KL-PT-P1</td>\n",
       "      <td>08/03/2020</td>\n",
       "      <td>54</td>\n",
       "      <td>M</td>\n",
       "      <td>Ranni</td>\n",
       "      <td>Pathanamthitta</td>\n",
       "      <td>Kerala</td>\n",
       "      <td>India</td>\n",
       "      <td>Recovered</td>\n",
       "      <td>29/03/2020</td>\n",
       "      <td>Travelled from Italy on 29/02/2020 through Doha</td>\n",
       "      <td>1</td>\n",
       "    </tr>\n",
       "    <tr>\n",
       "      <th>31</th>\n",
       "      <td>36</td>\n",
       "      <td>KL-P1-P1</td>\n",
       "      <td>08/03/2020</td>\n",
       "      <td>53</td>\n",
       "      <td>F</td>\n",
       "      <td>Ranni</td>\n",
       "      <td>Pathanamthitta</td>\n",
       "      <td>Kerala</td>\n",
       "      <td>India</td>\n",
       "      <td>Recovered</td>\n",
       "      <td>29/03/2020</td>\n",
       "      <td>Travelled from Italy on 29/02/2020 through Doha</td>\n",
       "      <td>1</td>\n",
       "    </tr>\n",
       "    <tr>\n",
       "      <th>32</th>\n",
       "      <td>37</td>\n",
       "      <td>KL-PT-P2</td>\n",
       "      <td>08/03/2020</td>\n",
       "      <td>65</td>\n",
       "      <td>M</td>\n",
       "      <td>Ranni</td>\n",
       "      <td>Pathanamthitta</td>\n",
       "      <td>Kerala</td>\n",
       "      <td>India</td>\n",
       "      <td>Recovered</td>\n",
       "      <td>29/03/2020</td>\n",
       "      <td>Relative and neighbour of P35-P37</td>\n",
       "      <td>1</td>\n",
       "    </tr>\n",
       "    <tr>\n",
       "      <th>33</th>\n",
       "      <td>38</td>\n",
       "      <td>KL-PT-P2</td>\n",
       "      <td>08/03/2020</td>\n",
       "      <td>61</td>\n",
       "      <td>F</td>\n",
       "      <td>Ranni</td>\n",
       "      <td>Pathanamthitta</td>\n",
       "      <td>Kerala</td>\n",
       "      <td>India</td>\n",
       "      <td>Recovered</td>\n",
       "      <td>29/03/2020</td>\n",
       "      <td>Relative  and neighbour of P35-P37</td>\n",
       "      <td>1</td>\n",
       "    </tr>\n",
       "    <tr>\n",
       "      <th>34</th>\n",
       "      <td>42</td>\n",
       "      <td>KL-KN-1</td>\n",
       "      <td>09/03/2020</td>\n",
       "      <td>3</td>\n",
       "      <td>M</td>\n",
       "      <td>Kannur</td>\n",
       "      <td>Kannur</td>\n",
       "      <td>Kerala</td>\n",
       "      <td>India</td>\n",
       "      <td>Recovered</td>\n",
       "      <td>26/03/2020</td>\n",
       "      <td>Travelled from Italy on 07/03/2020 (Parents in...</td>\n",
       "      <td>1</td>\n",
       "    </tr>\n",
       "    <tr>\n",
       "      <th>35</th>\n",
       "      <td>50</td>\n",
       "      <td>KA-P2</td>\n",
       "      <td>10/03/2020</td>\n",
       "      <td>40</td>\n",
       "      <td>M</td>\n",
       "      <td>Bengaluru</td>\n",
       "      <td>Bengaluru</td>\n",
       "      <td>Karnataka</td>\n",
       "      <td>India</td>\n",
       "      <td>Recovered</td>\n",
       "      <td>24/03/2020</td>\n",
       "      <td>Travelled from US on Feb 28, Dell Employee</td>\n",
       "      <td>1</td>\n",
       "    </tr>\n",
       "    <tr>\n",
       "      <th>36</th>\n",
       "      <td>55</td>\n",
       "      <td>KL-PT-P5</td>\n",
       "      <td>10/03/2020</td>\n",
       "      <td>96</td>\n",
       "      <td>M</td>\n",
       "      <td>Ranni</td>\n",
       "      <td>Pathanamthitta</td>\n",
       "      <td>Kerala</td>\n",
       "      <td>India</td>\n",
       "      <td>Recovered</td>\n",
       "      <td>31/03/2020</td>\n",
       "      <td>Father of P36</td>\n",
       "      <td>1</td>\n",
       "    </tr>\n",
       "    <tr>\n",
       "      <th>37</th>\n",
       "      <td>150</td>\n",
       "      <td>KA-P12</td>\n",
       "      <td>18/03/2020</td>\n",
       "      <td>25</td>\n",
       "      <td>M</td>\n",
       "      <td>Bengaluru</td>\n",
       "      <td>Bengaluru</td>\n",
       "      <td>Karnataka</td>\n",
       "      <td>India</td>\n",
       "      <td>Recovered</td>\n",
       "      <td>30/03/2020</td>\n",
       "      <td>Travelled from Spain AI136</td>\n",
       "      <td>1</td>\n",
       "    </tr>\n",
       "    <tr>\n",
       "      <th>38</th>\n",
       "      <td>56</td>\n",
       "      <td>KL-PT-P6</td>\n",
       "      <td>10/03/2020</td>\n",
       "      <td>89</td>\n",
       "      <td>F</td>\n",
       "      <td>Ranni</td>\n",
       "      <td>Pathanamthitta</td>\n",
       "      <td>Kerala</td>\n",
       "      <td>India</td>\n",
       "      <td>Recovered</td>\n",
       "      <td>31/03/2020</td>\n",
       "      <td>Mother of P36</td>\n",
       "      <td>1</td>\n",
       "    </tr>\n",
       "    <tr>\n",
       "      <th>39</th>\n",
       "      <td>70</td>\n",
       "      <td>AP-P1</td>\n",
       "      <td>12/03/2020</td>\n",
       "      <td>27</td>\n",
       "      <td>M</td>\n",
       "      <td>Nellore</td>\n",
       "      <td>S.P.S. Nellore</td>\n",
       "      <td>Andhra Pradesh</td>\n",
       "      <td>India</td>\n",
       "      <td>Recovered</td>\n",
       "      <td>01/04/2020</td>\n",
       "      <td>Travelled from Italy on March 6th</td>\n",
       "      <td>1</td>\n",
       "    </tr>\n",
       "    <tr>\n",
       "      <th>40</th>\n",
       "      <td>72</td>\n",
       "      <td>KA-P5</td>\n",
       "      <td>12/03/2020</td>\n",
       "      <td>26</td>\n",
       "      <td>M</td>\n",
       "      <td>Bengaluru</td>\n",
       "      <td>Bengaluru</td>\n",
       "      <td>Karnataka</td>\n",
       "      <td>India</td>\n",
       "      <td>Recovered</td>\n",
       "      <td>20/03/2020</td>\n",
       "      <td>Travelled from Greece to Mumbai on March 6th, ...</td>\n",
       "      <td>1</td>\n",
       "    </tr>\n",
       "    <tr>\n",
       "      <th>41</th>\n",
       "      <td>114</td>\n",
       "      <td>KA-P8</td>\n",
       "      <td>17/03/2020</td>\n",
       "      <td>32</td>\n",
       "      <td>M</td>\n",
       "      <td>Bengaluru</td>\n",
       "      <td>Bengaluru</td>\n",
       "      <td>Karnataka</td>\n",
       "      <td>India</td>\n",
       "      <td>Recovered</td>\n",
       "      <td>31/03/2020</td>\n",
       "      <td>Travelled from US via London on March 8, Co Pa...</td>\n",
       "      <td>1</td>\n",
       "    </tr>\n",
       "    <tr>\n",
       "      <th>42</th>\n",
       "      <td>115</td>\n",
       "      <td>KA-P7</td>\n",
       "      <td>16/03/2020</td>\n",
       "      <td>45</td>\n",
       "      <td>F</td>\n",
       "      <td>Kalaburagi</td>\n",
       "      <td>Kalaburagi</td>\n",
       "      <td>Karnataka</td>\n",
       "      <td>India</td>\n",
       "      <td>Recovered</td>\n",
       "      <td>31/03/2020</td>\n",
       "      <td>Daughter of P74</td>\n",
       "      <td>1</td>\n",
       "    </tr>\n",
       "    <tr>\n",
       "      <th>43</th>\n",
       "      <td>134</td>\n",
       "      <td>KA-P10</td>\n",
       "      <td>17/03/2020</td>\n",
       "      <td>20</td>\n",
       "      <td>F</td>\n",
       "      <td>Bengaluru</td>\n",
       "      <td>Bengaluru</td>\n",
       "      <td>Karnataka</td>\n",
       "      <td>India</td>\n",
       "      <td>Recovered</td>\n",
       "      <td>02/04/2020</td>\n",
       "      <td>Travelled from UK</td>\n",
       "      <td>1</td>\n",
       "    </tr>\n",
       "    <tr>\n",
       "      <th>44</th>\n",
       "      <td>135</td>\n",
       "      <td>KA-P11</td>\n",
       "      <td>17/03/2020</td>\n",
       "      <td>67</td>\n",
       "      <td>F</td>\n",
       "      <td>Bengaluru</td>\n",
       "      <td>Bengaluru</td>\n",
       "      <td>Karnataka</td>\n",
       "      <td>India</td>\n",
       "      <td>Recovered</td>\n",
       "      <td>01/04/2020</td>\n",
       "      <td>Travelled from Dubai</td>\n",
       "      <td>1</td>\n",
       "    </tr>\n",
       "    <tr>\n",
       "      <th>45</th>\n",
       "      <td>136</td>\n",
       "      <td>KA-P9</td>\n",
       "      <td>17/03/2020</td>\n",
       "      <td>63</td>\n",
       "      <td>M</td>\n",
       "      <td>Kalaburagi</td>\n",
       "      <td>Kalaburagi</td>\n",
       "      <td>Karnataka</td>\n",
       "      <td>India</td>\n",
       "      <td>Recovered</td>\n",
       "      <td>02/04/2020</td>\n",
       "      <td>Doctor of P74</td>\n",
       "      <td>1</td>\n",
       "    </tr>\n",
       "    <tr>\n",
       "      <th>46</th>\n",
       "      <td>149</td>\n",
       "      <td>KA-P13</td>\n",
       "      <td>18/03/2020</td>\n",
       "      <td>56</td>\n",
       "      <td>F</td>\n",
       "      <td>Bengaluru</td>\n",
       "      <td>Bengaluru</td>\n",
       "      <td>Karnataka</td>\n",
       "      <td>India</td>\n",
       "      <td>Recovered</td>\n",
       "      <td>06/04/2020</td>\n",
       "      <td>Travelled from US</td>\n",
       "      <td>1</td>\n",
       "    </tr>\n",
       "    <tr>\n",
       "      <th>47</th>\n",
       "      <td>953</td>\n",
       "      <td>KA-P75</td>\n",
       "      <td>28/03/2020</td>\n",
       "      <td>20</td>\n",
       "      <td>M</td>\n",
       "      <td>Davangere</td>\n",
       "      <td>Davanagere</td>\n",
       "      <td>Karnataka</td>\n",
       "      <td>India</td>\n",
       "      <td>Recovered</td>\n",
       "      <td>06/04/2020</td>\n",
       "      <td>Cousin of KA-P42</td>\n",
       "      <td>1</td>\n",
       "    </tr>\n",
       "  </tbody>\n",
       "</table>\n",
       "</div>"
      ],
      "text/plain": [
       "     id government_id diagnosed_date age gender             detected_city  \\\n",
       "0     0      KL-TS-P1     30/01/2020  20      F                  Thrissur   \n",
       "1     3         DL-P1     02/03/2020  45      M  East Delhi (Mayur Vihar)   \n",
       "2   195         AP-P3     19/03/2020  65      M              Visakapatnam   \n",
       "3   324        KA-P20     21/03/2020  35      M                    Mysuru   \n",
       "4   335        KA-P21     22/03/2020  33      M              Hosayellapur   \n",
       "5   372        KA-P26     22/03/2020  22      M                   Bhatkal   \n",
       "6   381        KA-P22     22/03/2020  64      F              Gowribidanur   \n",
       "7   382        KA-P23     22/03/2020  36      F                 Bengaluru   \n",
       "8   383        KA-P24     22/03/2020  27      M                 Bengaluru   \n",
       "9   384        KA-P25     22/03/2020  51      M                 Bengaluru   \n",
       "10  470        KA-P28     23/03/2020  38      M                 Bengaluru   \n",
       "11  471        KA-P29     23/03/2020  41      M                 Bengaluru   \n",
       "12  473        KA-P31     23/03/2020  24      M                 Bengaluru   \n",
       "13  511        KA-P34     24/03/2020  32      M                 Mangaluru   \n",
       "14  513        KA-P36     24/03/2020  65      M                   Bhatkal   \n",
       "15  514        KA-P37     24/03/2020  56      F           Chikkaballapura   \n",
       "16  528        KA-P39     24/03/2020  47      M                 Mangaluru   \n",
       "17  558        KA-P41     24/03/2020  23      M                 Mangaluru   \n",
       "18  633        KA-P47     25/03/2020  63      F                 Bengaluru   \n",
       "19  634        KA-P48     25/03/2020  69      M                 Bengaluru   \n",
       "20  860        KA-P63     27/03/2020  18      M                 Davangere   \n",
       "21  911        KA-P68     28/03/2020  25      M                 Bengaluru   \n",
       "22  913        KA-P70     28/03/2020  70      M              Gauribidanur   \n",
       "23  180         TN-P3     19/03/2020  21      M                   Chennai   \n",
       "24  174        KA-P15     19/03/2020  35      M                    Kodagu   \n",
       "25  155        KA-P14     18/03/2020  35      M                Bengaluru    \n",
       "26   52         KA-P4     10/03/2020  13      F                 Bengaluru   \n",
       "27    4         TS-P1     02/03/2020  24      M                 Hyderabad   \n",
       "28   33         TN-P1     07/03/2020  45      M              Kancheepuram   \n",
       "29   34      KL-PT-P1     08/03/2020  24      M                     Ranni   \n",
       "30   35      KL-PT-P1     08/03/2020  54      M                     Ranni   \n",
       "31   36      KL-P1-P1     08/03/2020  53      F                     Ranni   \n",
       "32   37      KL-PT-P2     08/03/2020  65      M                     Ranni   \n",
       "33   38      KL-PT-P2     08/03/2020  61      F                     Ranni   \n",
       "34   42       KL-KN-1     09/03/2020   3      M                    Kannur   \n",
       "35   50         KA-P2     10/03/2020  40      M                 Bengaluru   \n",
       "36   55      KL-PT-P5     10/03/2020  96      M                     Ranni   \n",
       "37  150        KA-P12     18/03/2020  25      M                Bengaluru    \n",
       "38   56      KL-PT-P6     10/03/2020  89      F                     Ranni   \n",
       "39   70         AP-P1     12/03/2020  27      M                   Nellore   \n",
       "40   72         KA-P5     12/03/2020  26      M                 Bengaluru   \n",
       "41  114         KA-P8     17/03/2020  32      M                 Bengaluru   \n",
       "42  115         KA-P7     16/03/2020  45      F                Kalaburagi   \n",
       "43  134        KA-P10     17/03/2020  20      F                 Bengaluru   \n",
       "44  135        KA-P11     17/03/2020  67      F                 Bengaluru   \n",
       "45  136         KA-P9     17/03/2020  63      M                Kalaburagi   \n",
       "46  149        KA-P13     18/03/2020  56      F                Bengaluru    \n",
       "47  953        KA-P75     28/03/2020  20      M                 Davangere   \n",
       "\n",
       "   detected_district  detected_state nationality current_status  \\\n",
       "0           Thrissur          Kerala       India      Recovered   \n",
       "1         East Delhi           Delhi       India      Recovered   \n",
       "2      Visakhapatnam  Andhra Pradesh       India      Recovered   \n",
       "3             Mysuru       Karnataka       India      Recovered   \n",
       "4            Dharwad       Karnataka       India      Recovered   \n",
       "5     Uttara Kannada       Karnataka       India      Recovered   \n",
       "6          Bengaluru       Karnataka       India      Recovered   \n",
       "7          Bengaluru       Karnataka       India      Recovered   \n",
       "8          Bengaluru       Karnataka       India      Recovered   \n",
       "9          Bengaluru       Karnataka       India      Recovered   \n",
       "10         Bengaluru       Karnataka       India      Recovered   \n",
       "11         Bengaluru       Karnataka       India      Recovered   \n",
       "12         Bengaluru       Karnataka       India      Recovered   \n",
       "13  Dakshina Kannada       Karnataka       India      Recovered   \n",
       "14    Uttara Kannada       Karnataka       India      Recovered   \n",
       "15   Chikkaballapura       Karnataka       India      Recovered   \n",
       "16  Dakshina Kannada       Karnataka       India      Recovered   \n",
       "17  Dakshina Kannada       Karnataka       India      Recovered   \n",
       "18         Bengaluru       Karnataka       India      Recovered   \n",
       "19         Bengaluru       Karnataka       India      Recovered   \n",
       "20        Davanagere       Karnataka       India      Recovered   \n",
       "21         Bengaluru       Karnataka       India      Recovered   \n",
       "22   Chikkaballapura       Karnataka       India      Recovered   \n",
       "23           Chennai      Tamil Nadu       India      Recovered   \n",
       "24            Kodagu       Karnataka       India      Recovered   \n",
       "25         Bengaluru       Karnataka       India      Recovered   \n",
       "26         Bengaluru       Karnataka       India      Recovered   \n",
       "27         Hyderabad       Telangana       India      Recovered   \n",
       "28      Kancheepuram      Tamil Nadu       India      Recovered   \n",
       "29    Pathanamthitta          Kerala       India      Recovered   \n",
       "30    Pathanamthitta          Kerala       India      Recovered   \n",
       "31    Pathanamthitta          Kerala       India      Recovered   \n",
       "32    Pathanamthitta          Kerala       India      Recovered   \n",
       "33    Pathanamthitta          Kerala       India      Recovered   \n",
       "34            Kannur          Kerala       India      Recovered   \n",
       "35         Bengaluru       Karnataka       India      Recovered   \n",
       "36    Pathanamthitta          Kerala       India      Recovered   \n",
       "37         Bengaluru       Karnataka       India      Recovered   \n",
       "38    Pathanamthitta          Kerala       India      Recovered   \n",
       "39    S.P.S. Nellore  Andhra Pradesh       India      Recovered   \n",
       "40         Bengaluru       Karnataka       India      Recovered   \n",
       "41         Bengaluru       Karnataka       India      Recovered   \n",
       "42        Kalaburagi       Karnataka       India      Recovered   \n",
       "43         Bengaluru       Karnataka       India      Recovered   \n",
       "44         Bengaluru       Karnataka       India      Recovered   \n",
       "45        Kalaburagi       Karnataka       India      Recovered   \n",
       "46         Bengaluru       Karnataka       India      Recovered   \n",
       "47        Davanagere       Karnataka       India      Recovered   \n",
       "\n",
       "   status_change_date                                              notes  0  \n",
       "0          14/02/2020                               Travelled from Wuhan  1  \n",
       "1          15/03/2020                      Travelled from Austria, Italy  1  \n",
       "2          29/03/2020              Travelled from Saudi Arabia on 12 Mar  1  \n",
       "3          07/04/2020                 Travelled from Dubai via Bengaluru  1  \n",
       "4          06/04/2020                       Travelled from Dubai via Goa  1  \n",
       "5          06/04/2020       Travelled from Dubai on Spicejet SG60 (21C)   1  \n",
       "6          22/03/2020  Travelled from Mecca, Saudi Arabia along with ...  1  \n",
       "7          22/03/2020              Travelled from Switzerland and France  1  \n",
       "8          06/04/2020                             Travelled from Germany  1  \n",
       "9          22/03/2020                              Travelled from London  1  \n",
       "10         07/04/2020                               Travelled from Dubai  1  \n",
       "11         06/04/2020                              Travelled from London  1  \n",
       "12         06/04/2020                        Travelled from UK and Dubai  1  \n",
       "13         07/04/2020  Kasaragod Resident; Travelled from Dubai, land...  1  \n",
       "14         11/04/2020  Travelled from Dubai, Landed in Mumbai (18th M...  1  \n",
       "15         24/03/2020  Travelled from Mecca, Saudi Arabia along with ...  1  \n",
       "16         07/04/2020  Resident of Kasargod, Kerala. With a Travel Hi...  1  \n",
       "17         07/04/2020  Resident of Kasargod, Kerala. With a Travel Hi...  1  \n",
       "18         25/03/2020  Travel History to Athens and London and arrive...  1  \n",
       "19         25/03/2020  Travel History to Athens and London and arrive...  1  \n",
       "20         27/03/2020                    Travel history to Paris, France  1  \n",
       "21         28/03/2020  Travel history to London, son of KA-P25 arrive...  1  \n",
       "22         11/04/2020                                  Contact of KA-P19  1  \n",
       "23         28/03/2020             Travelled from Dublin, Ireland on 17/3  1  \n",
       "24         19/03/2020                        Travelled from Saudi Arabia  1  \n",
       "25         05/04/2020                              Travelled from the US  1  \n",
       "26         24/03/2020                            Daughter of P51 and P52  1  \n",
       "27         02/03/2020  Travelled from Dubai to Bangalore on 20th Feb,...  1  \n",
       "28         07/03/2020  Travelled from Oman to Chennai Airport on 28.0...  1  \n",
       "29         27/03/2020    Travelled from Italy on 29/02/2020 through Doha  1  \n",
       "30         29/03/2020    Travelled from Italy on 29/02/2020 through Doha  1  \n",
       "31         29/03/2020    Travelled from Italy on 29/02/2020 through Doha  1  \n",
       "32         29/03/2020                  Relative and neighbour of P35-P37  1  \n",
       "33         29/03/2020                 Relative  and neighbour of P35-P37  1  \n",
       "34         26/03/2020  Travelled from Italy on 07/03/2020 (Parents in...  1  \n",
       "35         24/03/2020         Travelled from US on Feb 28, Dell Employee  1  \n",
       "36         31/03/2020                                      Father of P36  1  \n",
       "37         30/03/2020                         Travelled from Spain AI136  1  \n",
       "38         31/03/2020                                      Mother of P36  1  \n",
       "39         01/04/2020                  Travelled from Italy on March 6th  1  \n",
       "40         20/03/2020  Travelled from Greece to Mumbai on March 6th, ...  1  \n",
       "41         31/03/2020  Travelled from US via London on March 8, Co Pa...  1  \n",
       "42         31/03/2020                                    Daughter of P74  1  \n",
       "43         02/04/2020                                  Travelled from UK  1  \n",
       "44         01/04/2020                               Travelled from Dubai  1  \n",
       "45         02/04/2020                                      Doctor of P74  1  \n",
       "46         06/04/2020                                  Travelled from US  1  \n",
       "47         06/04/2020                                   Cousin of KA-P42  1  "
      ]
     },
     "execution_count": 10,
     "metadata": {},
     "output_type": "execute_result"
    }
   ],
   "source": [
    "\n",
    "pbar=patients['detected_state'].value_counts().reset_index()\n",
    "npat=patients[patients['current_status']=='Recovered']"
   ]
  },
  {
   "cell_type": "code",
   "execution_count": 11,
   "metadata": {},
   "outputs": [
    {
     "data": {
      "text/html": [
       "<div>\n",
       "<style scoped>\n",
       "    .dataframe tbody tr th:only-of-type {\n",
       "        vertical-align: middle;\n",
       "    }\n",
       "\n",
       "    .dataframe tbody tr th {\n",
       "        vertical-align: top;\n",
       "    }\n",
       "\n",
       "    .dataframe thead th {\n",
       "        text-align: right;\n",
       "    }\n",
       "</style>\n",
       "<table border=\"1\" class=\"dataframe\">\n",
       "  <thead>\n",
       "    <tr style=\"text-align: right;\">\n",
       "      <th></th>\n",
       "      <th>id</th>\n",
       "      <th>government_id</th>\n",
       "      <th>diagnosed_date</th>\n",
       "      <th>age</th>\n",
       "      <th>gender</th>\n",
       "      <th>detected_city</th>\n",
       "      <th>detected_district</th>\n",
       "      <th>detected_state</th>\n",
       "      <th>nationality</th>\n",
       "      <th>current_status</th>\n",
       "      <th>status_change_date</th>\n",
       "      <th>notes</th>\n",
       "    </tr>\n",
       "  </thead>\n",
       "  <tbody>\n",
       "    <tr>\n",
       "      <th>0</th>\n",
       "      <td>0</td>\n",
       "      <td>KL-TS-P1</td>\n",
       "      <td>30/01/2020</td>\n",
       "      <td>20</td>\n",
       "      <td>F</td>\n",
       "      <td>Thrissur</td>\n",
       "      <td>Thrissur</td>\n",
       "      <td>Kerala</td>\n",
       "      <td>India</td>\n",
       "      <td>Recovered</td>\n",
       "      <td>14/02/2020</td>\n",
       "      <td>Travelled from Wuhan</td>\n",
       "    </tr>\n",
       "    <tr>\n",
       "      <th>1</th>\n",
       "      <td>1</td>\n",
       "      <td>KL-AL-P1</td>\n",
       "      <td>02/02/2020</td>\n",
       "      <td>NaN</td>\n",
       "      <td>NaN</td>\n",
       "      <td>Alappuzha</td>\n",
       "      <td>Alappuzha</td>\n",
       "      <td>Kerala</td>\n",
       "      <td>India</td>\n",
       "      <td>Recovered</td>\n",
       "      <td>14/02/2020</td>\n",
       "      <td>Travelled from Wuhan</td>\n",
       "    </tr>\n",
       "    <tr>\n",
       "      <th>2</th>\n",
       "      <td>2</td>\n",
       "      <td>KL-KS-P1</td>\n",
       "      <td>03/02/2020</td>\n",
       "      <td>NaN</td>\n",
       "      <td>NaN</td>\n",
       "      <td>Kasaragod</td>\n",
       "      <td>Kasaragod</td>\n",
       "      <td>Kerala</td>\n",
       "      <td>India</td>\n",
       "      <td>Recovered</td>\n",
       "      <td>14/02/2020</td>\n",
       "      <td>Travelled from Wuhan</td>\n",
       "    </tr>\n",
       "    <tr>\n",
       "      <th>3</th>\n",
       "      <td>3</td>\n",
       "      <td>DL-P1</td>\n",
       "      <td>02/03/2020</td>\n",
       "      <td>45</td>\n",
       "      <td>M</td>\n",
       "      <td>East Delhi (Mayur Vihar)</td>\n",
       "      <td>East Delhi</td>\n",
       "      <td>Delhi</td>\n",
       "      <td>India</td>\n",
       "      <td>Recovered</td>\n",
       "      <td>15/03/2020</td>\n",
       "      <td>Travelled from Austria, Italy</td>\n",
       "    </tr>\n",
       "    <tr>\n",
       "      <th>4</th>\n",
       "      <td>4</td>\n",
       "      <td>TS-P1</td>\n",
       "      <td>02/03/2020</td>\n",
       "      <td>24</td>\n",
       "      <td>M</td>\n",
       "      <td>Hyderabad</td>\n",
       "      <td>Hyderabad</td>\n",
       "      <td>Telangana</td>\n",
       "      <td>India</td>\n",
       "      <td>Recovered</td>\n",
       "      <td>02/03/2020</td>\n",
       "      <td>Travelled from Dubai to Bangalore on 20th Feb,...</td>\n",
       "    </tr>\n",
       "  </tbody>\n",
       "</table>\n",
       "</div>"
      ],
      "text/plain": [
       "   id government_id diagnosed_date  age gender             detected_city  \\\n",
       "0   0      KL-TS-P1     30/01/2020   20      F                  Thrissur   \n",
       "1   1      KL-AL-P1     02/02/2020  NaN    NaN                 Alappuzha   \n",
       "2   2      KL-KS-P1     03/02/2020  NaN    NaN                 Kasaragod   \n",
       "3   3         DL-P1     02/03/2020   45      M  East Delhi (Mayur Vihar)   \n",
       "4   4         TS-P1     02/03/2020   24      M                 Hyderabad   \n",
       "\n",
       "  detected_district detected_state nationality current_status  \\\n",
       "0          Thrissur         Kerala       India      Recovered   \n",
       "1         Alappuzha         Kerala       India      Recovered   \n",
       "2         Kasaragod         Kerala       India      Recovered   \n",
       "3        East Delhi          Delhi       India      Recovered   \n",
       "4         Hyderabad      Telangana       India      Recovered   \n",
       "\n",
       "  status_change_date                                              notes  \n",
       "0         14/02/2020                               Travelled from Wuhan  \n",
       "1         14/02/2020                               Travelled from Wuhan  \n",
       "2         14/02/2020                               Travelled from Wuhan  \n",
       "3         15/03/2020                      Travelled from Austria, Italy  \n",
       "4         02/03/2020  Travelled from Dubai to Bangalore on 20th Feb,...  "
      ]
     },
     "execution_count": 11,
     "metadata": {},
     "output_type": "execute_result"
    }
   ],
   "source": []
  },
  {
   "cell_type": "code",
   "execution_count": 74,
   "metadata": {},
   "outputs": [
    {
     "ename": "AttributeError",
     "evalue": "'DataFrame' object has no attribute 'infor'",
     "output_type": "error",
     "traceback": [
      "\u001b[1;31m---------------------------------------------------------------------------\u001b[0m",
      "\u001b[1;31mAttributeError\u001b[0m                            Traceback (most recent call last)",
      "Cell \u001b[1;32mIn[74], line 6\u001b[0m\n\u001b[0;32m      2\u001b[0m df[\u001b[38;5;124m'\u001b[39m\u001b[38;5;124mTotal Cases\u001b[39m\u001b[38;5;124m'\u001b[39m]\u001b[38;5;241m=\u001b[39mdf[\u001b[38;5;124m'\u001b[39m\u001b[38;5;124mConfirmed\u001b[39m\u001b[38;5;124m'\u001b[39m]\u001b[38;5;241m.\u001b[39mcumsum()\n\u001b[0;32m      4\u001b[0m px\u001b[38;5;241m.\u001b[39mline(df,x\u001b[38;5;241m=\u001b[39m\u001b[38;5;124m'\u001b[39m\u001b[38;5;124mDate\u001b[39m\u001b[38;5;124m'\u001b[39m,y\u001b[38;5;241m=\u001b[39m\u001b[38;5;124m'\u001b[39m\u001b[38;5;124mTotal Cases\u001b[39m\u001b[38;5;124m'\u001b[39m)\n\u001b[1;32m----> 6\u001b[0m df\u001b[38;5;241m.\u001b[39minfor()\n",
      "File \u001b[1;32mc:\\Users\\Admin\\anaconda3\\Lib\\site-packages\\pandas\\core\\generic.py:5902\u001b[0m, in \u001b[0;36mNDFrame.__getattr__\u001b[1;34m(self, name)\u001b[0m\n\u001b[0;32m   5895\u001b[0m \u001b[38;5;28;01mif\u001b[39;00m (\n\u001b[0;32m   5896\u001b[0m     name \u001b[38;5;129;01mnot\u001b[39;00m \u001b[38;5;129;01min\u001b[39;00m \u001b[38;5;28mself\u001b[39m\u001b[38;5;241m.\u001b[39m_internal_names_set\n\u001b[0;32m   5897\u001b[0m     \u001b[38;5;129;01mand\u001b[39;00m name \u001b[38;5;129;01mnot\u001b[39;00m \u001b[38;5;129;01min\u001b[39;00m \u001b[38;5;28mself\u001b[39m\u001b[38;5;241m.\u001b[39m_metadata\n\u001b[0;32m   5898\u001b[0m     \u001b[38;5;129;01mand\u001b[39;00m name \u001b[38;5;129;01mnot\u001b[39;00m \u001b[38;5;129;01min\u001b[39;00m \u001b[38;5;28mself\u001b[39m\u001b[38;5;241m.\u001b[39m_accessors\n\u001b[0;32m   5899\u001b[0m     \u001b[38;5;129;01mand\u001b[39;00m \u001b[38;5;28mself\u001b[39m\u001b[38;5;241m.\u001b[39m_info_axis\u001b[38;5;241m.\u001b[39m_can_hold_identifiers_and_holds_name(name)\n\u001b[0;32m   5900\u001b[0m ):\n\u001b[0;32m   5901\u001b[0m     \u001b[38;5;28;01mreturn\u001b[39;00m \u001b[38;5;28mself\u001b[39m[name]\n\u001b[1;32m-> 5902\u001b[0m \u001b[38;5;28;01mreturn\u001b[39;00m \u001b[38;5;28mobject\u001b[39m\u001b[38;5;241m.\u001b[39m\u001b[38;5;21m__getattribute__\u001b[39m(\u001b[38;5;28mself\u001b[39m, name)\n",
      "\u001b[1;31mAttributeError\u001b[0m: 'DataFrame' object has no attribute 'infor'"
     ]
    }
   ],
   "source": [
    "df=pd.read_csv('covid_19_india.csv')\n",
    "df['Total Cases']=df['Confirmed'].cumsum()\n",
    "\n",
    "px.line(df,x='Date',y='Total Cases')\n",
    "\n",
    "df.infor()"
   ]
  },
  {
   "cell_type": "code",
   "execution_count": 79,
   "metadata": {},
   "outputs": [
    {
     "data": {
      "application/vnd.plotly.v1+json": {
       "config": {
        "plotlyServerURL": "https://plot.ly"
       },
       "data": [
        {
         "domain": {
          "x": [
           0,
           1
          ],
          "y": [
           0,
           1
          ]
         },
         "hovertemplate": "AgeGroup=%{label}<br>Percentage=%{value}<extra></extra>",
         "labels": [
          "0-9",
          "10-19",
          "20-29",
          "30-39",
          "40-49",
          "50-59",
          "60-69",
          "70-79",
          ">=80",
          "Missing"
         ],
         "legendgroup": "",
         "name": "",
         "showlegend": true,
         "type": "pie",
         "values": [
          3.18,
          3.9,
          24.86,
          21.1,
          16.18,
          11.13,
          12.86,
          4.05,
          1.45,
          1.3
         ]
        }
       ],
       "layout": {
        "legend": {
         "tracegroupgap": 0
        },
        "margin": {
         "t": 60
        },
        "template": {
         "data": {
          "bar": [
           {
            "error_x": {
             "color": "#2a3f5f"
            },
            "error_y": {
             "color": "#2a3f5f"
            },
            "marker": {
             "line": {
              "color": "#E5ECF6",
              "width": 0.5
             },
             "pattern": {
              "fillmode": "overlay",
              "size": 10,
              "solidity": 0.2
             }
            },
            "type": "bar"
           }
          ],
          "barpolar": [
           {
            "marker": {
             "line": {
              "color": "#E5ECF6",
              "width": 0.5
             },
             "pattern": {
              "fillmode": "overlay",
              "size": 10,
              "solidity": 0.2
             }
            },
            "type": "barpolar"
           }
          ],
          "carpet": [
           {
            "aaxis": {
             "endlinecolor": "#2a3f5f",
             "gridcolor": "white",
             "linecolor": "white",
             "minorgridcolor": "white",
             "startlinecolor": "#2a3f5f"
            },
            "baxis": {
             "endlinecolor": "#2a3f5f",
             "gridcolor": "white",
             "linecolor": "white",
             "minorgridcolor": "white",
             "startlinecolor": "#2a3f5f"
            },
            "type": "carpet"
           }
          ],
          "choropleth": [
           {
            "colorbar": {
             "outlinewidth": 0,
             "ticks": ""
            },
            "type": "choropleth"
           }
          ],
          "contour": [
           {
            "colorbar": {
             "outlinewidth": 0,
             "ticks": ""
            },
            "colorscale": [
             [
              0,
              "#0d0887"
             ],
             [
              0.1111111111111111,
              "#46039f"
             ],
             [
              0.2222222222222222,
              "#7201a8"
             ],
             [
              0.3333333333333333,
              "#9c179e"
             ],
             [
              0.4444444444444444,
              "#bd3786"
             ],
             [
              0.5555555555555556,
              "#d8576b"
             ],
             [
              0.6666666666666666,
              "#ed7953"
             ],
             [
              0.7777777777777778,
              "#fb9f3a"
             ],
             [
              0.8888888888888888,
              "#fdca26"
             ],
             [
              1,
              "#f0f921"
             ]
            ],
            "type": "contour"
           }
          ],
          "contourcarpet": [
           {
            "colorbar": {
             "outlinewidth": 0,
             "ticks": ""
            },
            "type": "contourcarpet"
           }
          ],
          "heatmap": [
           {
            "colorbar": {
             "outlinewidth": 0,
             "ticks": ""
            },
            "colorscale": [
             [
              0,
              "#0d0887"
             ],
             [
              0.1111111111111111,
              "#46039f"
             ],
             [
              0.2222222222222222,
              "#7201a8"
             ],
             [
              0.3333333333333333,
              "#9c179e"
             ],
             [
              0.4444444444444444,
              "#bd3786"
             ],
             [
              0.5555555555555556,
              "#d8576b"
             ],
             [
              0.6666666666666666,
              "#ed7953"
             ],
             [
              0.7777777777777778,
              "#fb9f3a"
             ],
             [
              0.8888888888888888,
              "#fdca26"
             ],
             [
              1,
              "#f0f921"
             ]
            ],
            "type": "heatmap"
           }
          ],
          "heatmapgl": [
           {
            "colorbar": {
             "outlinewidth": 0,
             "ticks": ""
            },
            "colorscale": [
             [
              0,
              "#0d0887"
             ],
             [
              0.1111111111111111,
              "#46039f"
             ],
             [
              0.2222222222222222,
              "#7201a8"
             ],
             [
              0.3333333333333333,
              "#9c179e"
             ],
             [
              0.4444444444444444,
              "#bd3786"
             ],
             [
              0.5555555555555556,
              "#d8576b"
             ],
             [
              0.6666666666666666,
              "#ed7953"
             ],
             [
              0.7777777777777778,
              "#fb9f3a"
             ],
             [
              0.8888888888888888,
              "#fdca26"
             ],
             [
              1,
              "#f0f921"
             ]
            ],
            "type": "heatmapgl"
           }
          ],
          "histogram": [
           {
            "marker": {
             "pattern": {
              "fillmode": "overlay",
              "size": 10,
              "solidity": 0.2
             }
            },
            "type": "histogram"
           }
          ],
          "histogram2d": [
           {
            "colorbar": {
             "outlinewidth": 0,
             "ticks": ""
            },
            "colorscale": [
             [
              0,
              "#0d0887"
             ],
             [
              0.1111111111111111,
              "#46039f"
             ],
             [
              0.2222222222222222,
              "#7201a8"
             ],
             [
              0.3333333333333333,
              "#9c179e"
             ],
             [
              0.4444444444444444,
              "#bd3786"
             ],
             [
              0.5555555555555556,
              "#d8576b"
             ],
             [
              0.6666666666666666,
              "#ed7953"
             ],
             [
              0.7777777777777778,
              "#fb9f3a"
             ],
             [
              0.8888888888888888,
              "#fdca26"
             ],
             [
              1,
              "#f0f921"
             ]
            ],
            "type": "histogram2d"
           }
          ],
          "histogram2dcontour": [
           {
            "colorbar": {
             "outlinewidth": 0,
             "ticks": ""
            },
            "colorscale": [
             [
              0,
              "#0d0887"
             ],
             [
              0.1111111111111111,
              "#46039f"
             ],
             [
              0.2222222222222222,
              "#7201a8"
             ],
             [
              0.3333333333333333,
              "#9c179e"
             ],
             [
              0.4444444444444444,
              "#bd3786"
             ],
             [
              0.5555555555555556,
              "#d8576b"
             ],
             [
              0.6666666666666666,
              "#ed7953"
             ],
             [
              0.7777777777777778,
              "#fb9f3a"
             ],
             [
              0.8888888888888888,
              "#fdca26"
             ],
             [
              1,
              "#f0f921"
             ]
            ],
            "type": "histogram2dcontour"
           }
          ],
          "mesh3d": [
           {
            "colorbar": {
             "outlinewidth": 0,
             "ticks": ""
            },
            "type": "mesh3d"
           }
          ],
          "parcoords": [
           {
            "line": {
             "colorbar": {
              "outlinewidth": 0,
              "ticks": ""
             }
            },
            "type": "parcoords"
           }
          ],
          "pie": [
           {
            "automargin": true,
            "type": "pie"
           }
          ],
          "scatter": [
           {
            "fillpattern": {
             "fillmode": "overlay",
             "size": 10,
             "solidity": 0.2
            },
            "type": "scatter"
           }
          ],
          "scatter3d": [
           {
            "line": {
             "colorbar": {
              "outlinewidth": 0,
              "ticks": ""
             }
            },
            "marker": {
             "colorbar": {
              "outlinewidth": 0,
              "ticks": ""
             }
            },
            "type": "scatter3d"
           }
          ],
          "scattercarpet": [
           {
            "marker": {
             "colorbar": {
              "outlinewidth": 0,
              "ticks": ""
             }
            },
            "type": "scattercarpet"
           }
          ],
          "scattergeo": [
           {
            "marker": {
             "colorbar": {
              "outlinewidth": 0,
              "ticks": ""
             }
            },
            "type": "scattergeo"
           }
          ],
          "scattergl": [
           {
            "marker": {
             "colorbar": {
              "outlinewidth": 0,
              "ticks": ""
             }
            },
            "type": "scattergl"
           }
          ],
          "scattermapbox": [
           {
            "marker": {
             "colorbar": {
              "outlinewidth": 0,
              "ticks": ""
             }
            },
            "type": "scattermapbox"
           }
          ],
          "scatterpolar": [
           {
            "marker": {
             "colorbar": {
              "outlinewidth": 0,
              "ticks": ""
             }
            },
            "type": "scatterpolar"
           }
          ],
          "scatterpolargl": [
           {
            "marker": {
             "colorbar": {
              "outlinewidth": 0,
              "ticks": ""
             }
            },
            "type": "scatterpolargl"
           }
          ],
          "scatterternary": [
           {
            "marker": {
             "colorbar": {
              "outlinewidth": 0,
              "ticks": ""
             }
            },
            "type": "scatterternary"
           }
          ],
          "surface": [
           {
            "colorbar": {
             "outlinewidth": 0,
             "ticks": ""
            },
            "colorscale": [
             [
              0,
              "#0d0887"
             ],
             [
              0.1111111111111111,
              "#46039f"
             ],
             [
              0.2222222222222222,
              "#7201a8"
             ],
             [
              0.3333333333333333,
              "#9c179e"
             ],
             [
              0.4444444444444444,
              "#bd3786"
             ],
             [
              0.5555555555555556,
              "#d8576b"
             ],
             [
              0.6666666666666666,
              "#ed7953"
             ],
             [
              0.7777777777777778,
              "#fb9f3a"
             ],
             [
              0.8888888888888888,
              "#fdca26"
             ],
             [
              1,
              "#f0f921"
             ]
            ],
            "type": "surface"
           }
          ],
          "table": [
           {
            "cells": {
             "fill": {
              "color": "#EBF0F8"
             },
             "line": {
              "color": "white"
             }
            },
            "header": {
             "fill": {
              "color": "#C8D4E3"
             },
             "line": {
              "color": "white"
             }
            },
            "type": "table"
           }
          ]
         },
         "layout": {
          "annotationdefaults": {
           "arrowcolor": "#2a3f5f",
           "arrowhead": 0,
           "arrowwidth": 1
          },
          "autotypenumbers": "strict",
          "coloraxis": {
           "colorbar": {
            "outlinewidth": 0,
            "ticks": ""
           }
          },
          "colorscale": {
           "diverging": [
            [
             0,
             "#8e0152"
            ],
            [
             0.1,
             "#c51b7d"
            ],
            [
             0.2,
             "#de77ae"
            ],
            [
             0.3,
             "#f1b6da"
            ],
            [
             0.4,
             "#fde0ef"
            ],
            [
             0.5,
             "#f7f7f7"
            ],
            [
             0.6,
             "#e6f5d0"
            ],
            [
             0.7,
             "#b8e186"
            ],
            [
             0.8,
             "#7fbc41"
            ],
            [
             0.9,
             "#4d9221"
            ],
            [
             1,
             "#276419"
            ]
           ],
           "sequential": [
            [
             0,
             "#0d0887"
            ],
            [
             0.1111111111111111,
             "#46039f"
            ],
            [
             0.2222222222222222,
             "#7201a8"
            ],
            [
             0.3333333333333333,
             "#9c179e"
            ],
            [
             0.4444444444444444,
             "#bd3786"
            ],
            [
             0.5555555555555556,
             "#d8576b"
            ],
            [
             0.6666666666666666,
             "#ed7953"
            ],
            [
             0.7777777777777778,
             "#fb9f3a"
            ],
            [
             0.8888888888888888,
             "#fdca26"
            ],
            [
             1,
             "#f0f921"
            ]
           ],
           "sequentialminus": [
            [
             0,
             "#0d0887"
            ],
            [
             0.1111111111111111,
             "#46039f"
            ],
            [
             0.2222222222222222,
             "#7201a8"
            ],
            [
             0.3333333333333333,
             "#9c179e"
            ],
            [
             0.4444444444444444,
             "#bd3786"
            ],
            [
             0.5555555555555556,
             "#d8576b"
            ],
            [
             0.6666666666666666,
             "#ed7953"
            ],
            [
             0.7777777777777778,
             "#fb9f3a"
            ],
            [
             0.8888888888888888,
             "#fdca26"
            ],
            [
             1,
             "#f0f921"
            ]
           ]
          },
          "colorway": [
           "#636efa",
           "#EF553B",
           "#00cc96",
           "#ab63fa",
           "#FFA15A",
           "#19d3f3",
           "#FF6692",
           "#B6E880",
           "#FF97FF",
           "#FECB52"
          ],
          "font": {
           "color": "#2a3f5f"
          },
          "geo": {
           "bgcolor": "white",
           "lakecolor": "white",
           "landcolor": "#E5ECF6",
           "showlakes": true,
           "showland": true,
           "subunitcolor": "white"
          },
          "hoverlabel": {
           "align": "left"
          },
          "hovermode": "closest",
          "mapbox": {
           "style": "light"
          },
          "paper_bgcolor": "white",
          "plot_bgcolor": "#E5ECF6",
          "polar": {
           "angularaxis": {
            "gridcolor": "white",
            "linecolor": "white",
            "ticks": ""
           },
           "bgcolor": "#E5ECF6",
           "radialaxis": {
            "gridcolor": "white",
            "linecolor": "white",
            "ticks": ""
           }
          },
          "scene": {
           "xaxis": {
            "backgroundcolor": "#E5ECF6",
            "gridcolor": "white",
            "gridwidth": 2,
            "linecolor": "white",
            "showbackground": true,
            "ticks": "",
            "zerolinecolor": "white"
           },
           "yaxis": {
            "backgroundcolor": "#E5ECF6",
            "gridcolor": "white",
            "gridwidth": 2,
            "linecolor": "white",
            "showbackground": true,
            "ticks": "",
            "zerolinecolor": "white"
           },
           "zaxis": {
            "backgroundcolor": "#E5ECF6",
            "gridcolor": "white",
            "gridwidth": 2,
            "linecolor": "white",
            "showbackground": true,
            "ticks": "",
            "zerolinecolor": "white"
           }
          },
          "shapedefaults": {
           "line": {
            "color": "#2a3f5f"
           }
          },
          "ternary": {
           "aaxis": {
            "gridcolor": "white",
            "linecolor": "white",
            "ticks": ""
           },
           "baxis": {
            "gridcolor": "white",
            "linecolor": "white",
            "ticks": ""
           },
           "bgcolor": "#E5ECF6",
           "caxis": {
            "gridcolor": "white",
            "linecolor": "white",
            "ticks": ""
           }
          },
          "title": {
           "x": 0.05
          },
          "xaxis": {
           "automargin": true,
           "gridcolor": "white",
           "linecolor": "white",
           "ticks": "",
           "title": {
            "standoff": 15
           },
           "zerolinecolor": "white",
           "zerolinewidth": 2
          },
          "yaxis": {
           "automargin": true,
           "gridcolor": "white",
           "linecolor": "white",
           "ticks": "",
           "title": {
            "standoff": 15
           },
           "zerolinecolor": "white",
           "zerolinewidth": 2
          }
         }
        }
       }
      }
     },
     "metadata": {},
     "output_type": "display_data"
    }
   ],
   "source": [
    "df2=pd.read_csv('AgeGroupDetails.csv')\n",
    "df2['Percentage']=df2['Percentage'].str.removesuffix('%').astype(float)\n",
    "px.pie(df2,values='Percentage',names='AgeGroup',labels='AgeGroup')"
   ]
  },
  {
   "cell_type": "code",
   "execution_count": 78,
   "metadata": {},
   "outputs": [
    {
     "name": "stdout",
     "output_type": "stream",
     "text": [
      "<class 'pandas.core.frame.DataFrame'>\n",
      "RangeIndex: 10 entries, 0 to 9\n",
      "Data columns (total 4 columns):\n",
      " #   Column      Non-Null Count  Dtype  \n",
      "---  ------      --------------  -----  \n",
      " 0   Sno         10 non-null     int64  \n",
      " 1   AgeGroup    10 non-null     object \n",
      " 2   TotalCases  10 non-null     int64  \n",
      " 3   Percentage  10 non-null     float64\n",
      "dtypes: float64(1), int64(2), object(1)\n",
      "memory usage: 452.0+ bytes\n"
     ]
    },
    {
     "data": {
      "text/plain": [
       "0        0-9\n",
       "1      10-19\n",
       "2      20-29\n",
       "3      30-39\n",
       "4      40-49\n",
       "5      50-59\n",
       "6      60-69\n",
       "7      70-79\n",
       "8       >=80\n",
       "9    Missing\n",
       "Name: AgeGroup, dtype: object"
      ]
     },
     "execution_count": 78,
     "metadata": {},
     "output_type": "execute_result"
    }
   ],
   "source": [
    "df2.info()\n",
    "df2['AgeGroup']=df2['AgeGroup'].astype(str)\n"
   ]
  },
  {
   "cell_type": "code",
   "execution_count": null,
   "metadata": {},
   "outputs": [],
   "source": []
  }
 ],
 "metadata": {
  "kernelspec": {
   "display_name": "base",
   "language": "python",
   "name": "python3"
  },
  "language_info": {
   "codemirror_mode": {
    "name": "ipython",
    "version": 3
   },
   "file_extension": ".py",
   "mimetype": "text/x-python",
   "name": "python",
   "nbconvert_exporter": "python",
   "pygments_lexer": "ipython3",
   "version": "3.11.4"
  }
 },
 "nbformat": 4,
 "nbformat_minor": 2
}
